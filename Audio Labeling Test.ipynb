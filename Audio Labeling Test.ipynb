{
 "cells": [
  {
   "cell_type": "code",
   "execution_count": 1,
   "metadata": {},
   "outputs": [
    {
     "name": "stdout",
     "output_type": "stream",
     "text": [
      "env: CUDA_VISIBLE_DEVICES='-1'\n"
     ]
    }
   ],
   "source": [
    "%env CUDA_VISIBLE_DEVICES='-1'\n",
    "import tensorflow as tf\n",
    "import numpy as np\n",
    "import pandas as pd\n",
    "import glob\n",
    "import os\n",
    "import loader\n",
    "from IPython.display import display, Audio"
   ]
  },
  {
   "cell_type": "code",
   "execution_count": 2,
   "metadata": {},
   "outputs": [],
   "source": [
    "tokens = []\n",
    "fps = []\n",
    "root_dir = 'data/Gamemaster_Audio_16KHz'\n",
    "for fp in glob.iglob(os.path.join(root_dir, '**/*.wav'), recursive=True):\n",
    "    fps.append(fp)\n",
    "    tokens.append(os.path.basename(fp).split('.')[0].split(' ')[0].split('_')[0])"
   ]
  },
  {
   "cell_type": "code",
   "execution_count": 24,
   "metadata": {},
   "outputs": [
    {
     "name": "stdout",
     "output_type": "stream",
     "text": [
      "bear            0\n",
      "hyena           1\n",
      "clock           2\n",
      "potions         3\n",
      "printer         4\n",
      "fun             5\n",
      "river           6\n",
      "cat             7\n",
      "tape            8\n",
      "water           9\n",
      "pick           10\n",
      "sweeping       11\n",
      "stones         12\n",
      "pencil         13\n",
      "car            14\n",
      "rock           15\n",
      "voice          16\n",
      "squeaky        17\n",
      "bubble         18\n",
      "mine           19\n",
      "witch          20\n",
      "switch         21\n",
      "goblin         22\n",
      "snowball       23\n",
      "hydraulic      24\n",
      "cooking        25\n",
      "twinkle        26\n",
      "scissors       27\n",
      "fart           28\n",
      "weapon         29\n",
      "             ... \n",
      "beep          151\n",
      "item          152\n",
      "music         153\n",
      "turkey        154\n",
      "explosion     155\n",
      "toy           156\n",
      "boiling       157\n",
      "swamp         158\n",
      "retro         159\n",
      "lever         160\n",
      "pigeon        161\n",
      "goat          162\n",
      "hum           163\n",
      "fireball      164\n",
      "coin          165\n",
      "bone          166\n",
      "pig           167\n",
      "casting       168\n",
      "bird          169\n",
      "cinematic     170\n",
      "fear          171\n",
      "background    172\n",
      "strange       173\n",
      "ice           174\n",
      "kick          175\n",
      "game          176\n",
      "punch         177\n",
      "dog           178\n",
      "toliet        179\n",
      "footstep      180\n",
      "Length: 181, dtype: int32\n"
     ]
    }
   ],
   "source": [
    "vocab = set(tokens + ['<UNK>'])\n",
    "vocab = pd.Series(range(len(vocab)), index=vocab, dtype=np.int32)\n",
    "print(vocab)"
   ]
  },
  {
   "cell_type": "code",
   "execution_count": 25,
   "metadata": {},
   "outputs": [
    {
     "name": "stdout",
     "output_type": "stream",
     "text": [
      "[120 120 120 ... 153 153 153]\n"
     ]
    },
    {
     "data": {
      "text/plain": [
       "8076"
      ]
     },
     "execution_count": 25,
     "metadata": {},
     "output_type": "execute_result"
    }
   ],
   "source": [
    "word_ids = vocab.loc[tokens].values\n",
    "print(word_ids)\n",
    "len(word_ids)"
   ]
  },
  {
   "cell_type": "code",
   "execution_count": 27,
   "metadata": {},
   "outputs": [
    {
     "name": "stdout",
     "output_type": "stream",
     "text": [
      "0\n",
      "bear            0\n",
      "hyena           1\n",
      "clock           2\n",
      "potions         3\n",
      "printer         4\n",
      "fun             5\n",
      "river           6\n",
      "cat             7\n",
      "tape            8\n",
      "water           9\n",
      "pick           10\n",
      "sweeping       11\n",
      "stones         12\n",
      "pencil         13\n",
      "car            14\n",
      "rock           15\n",
      "voice          16\n",
      "squeaky        17\n",
      "bubble         18\n",
      "mine           19\n",
      "witch          20\n",
      "switch         21\n",
      "goblin         22\n",
      "snowball       23\n",
      "hydraulic      24\n",
      "cooking        25\n",
      "twinkle        26\n",
      "scissors       27\n",
      "fart           28\n",
      "weapon         29\n",
      "             ... \n",
      "beep          151\n",
      "item          152\n",
      "music         153\n",
      "turkey        154\n",
      "explosion     155\n",
      "toy           156\n",
      "boiling       157\n",
      "swamp         158\n",
      "retro         159\n",
      "lever         160\n",
      "pigeon        161\n",
      "goat          162\n",
      "hum           163\n",
      "fireball      164\n",
      "coin          165\n",
      "bone          166\n",
      "pig           167\n",
      "casting       168\n",
      "bird          169\n",
      "cinematic     170\n",
      "fear          171\n",
      "background    172\n",
      "strange       173\n",
      "ice           174\n",
      "kick          175\n",
      "game          176\n",
      "punch         177\n",
      "dog           178\n",
      "toliet        179\n",
      "footstep      180\n",
      "Name: 1, Length: 181, dtype: int32\n",
      "145\n",
      "hippo\n"
     ]
    }
   ],
   "source": [
    "vocab.to_csv('vocab_test.csv', header=False)\n",
    "vocab_from_file = pd.read_csv('vocab_test.csv', header=None, index_col=0, squeeze=True).astype(np.int32)\n",
    "print(vocab_from_file)\n",
    "print(vocab_from_file.loc['<UNK>'])\n",
    "print(vocab_from_file.index[117])"
   ]
  },
  {
   "cell_type": "code",
   "execution_count": 6,
   "metadata": {},
   "outputs": [
    {
     "name": "stdout",
     "output_type": "stream",
     "text": [
      "toliet\n",
      "145\n"
     ]
    }
   ],
   "source": [
    "print(vocab.index[179])\n",
    "print(vocab.loc['<UNK>'])"
   ]
  },
  {
   "cell_type": "code",
   "execution_count": 30,
   "metadata": {},
   "outputs": [
    {
     "data": {
      "text/plain": [
       "['bear',\n",
       " 'hyena',\n",
       " 'clock',\n",
       " 'potions',\n",
       " 'printer',\n",
       " 'fun',\n",
       " 'river',\n",
       " 'cat',\n",
       " 'tape',\n",
       " 'water',\n",
       " 'pick',\n",
       " 'sweeping',\n",
       " 'stones',\n",
       " 'pencil',\n",
       " 'car',\n",
       " 'rock',\n",
       " 'voice',\n",
       " 'squeaky',\n",
       " 'bubble',\n",
       " 'mine',\n",
       " 'witch',\n",
       " 'switch',\n",
       " 'goblin',\n",
       " 'snowball',\n",
       " 'hydraulic',\n",
       " 'cooking',\n",
       " 'twinkle',\n",
       " 'scissors',\n",
       " 'fart',\n",
       " 'weapon',\n",
       " 'cash',\n",
       " 'ducks',\n",
       " 'crickets',\n",
       " 'special',\n",
       " 'wolf',\n",
       " 'crow',\n",
       " 'potion',\n",
       " 'cave',\n",
       " 'monkey',\n",
       " 'phone',\n",
       " 'chime',\n",
       " 'fire',\n",
       " 'taser',\n",
       " 'seal',\n",
       " 'duck',\n",
       " 'shimmer',\n",
       " 'troll',\n",
       " 'cork',\n",
       " 'fan',\n",
       " 'fuse',\n",
       " 'gorilla',\n",
       " 'birds',\n",
       " 'hyro',\n",
       " 'light',\n",
       " 'spray',\n",
       " 'chicken',\n",
       " 'elevator',\n",
       " 'happy',\n",
       " 'zombie',\n",
       " 'chair',\n",
       " 'truck',\n",
       " 'hacking',\n",
       " 'healing',\n",
       " 'points',\n",
       " 'metallic',\n",
       " 'cartoon',\n",
       " 'elec',\n",
       " 'magic',\n",
       " 'spell',\n",
       " 'nature',\n",
       " 'bell',\n",
       " 'tas',\n",
       " 'knife',\n",
       " 'underwater',\n",
       " 'typing',\n",
       " 'horse',\n",
       " 'sword',\n",
       " 'collect',\n",
       " 'small',\n",
       " 'boat',\n",
       " 'ghost',\n",
       " 'frog',\n",
       " 'owl',\n",
       " 'whistle',\n",
       " 'comedy',\n",
       " 'bowling',\n",
       " 'manhole',\n",
       " 'gun',\n",
       " 'tyre',\n",
       " 'vanish',\n",
       " 'grasshopper',\n",
       " 'rooster',\n",
       " 'gear',\n",
       " 'zebra',\n",
       " 'door',\n",
       " 'distort',\n",
       " 'wood',\n",
       " 'unsheathe',\n",
       " 'stone',\n",
       " 'gas',\n",
       " 'bow',\n",
       " 'rain',\n",
       " 'shiny',\n",
       " 'hospital',\n",
       " 'sci-fi',\n",
       " 'battle',\n",
       " 'cow',\n",
       " 'whoosh',\n",
       " 'shaker',\n",
       " 'cricket',\n",
       " 'electric',\n",
       " 'fantasy',\n",
       " 'chimes',\n",
       " 'engine',\n",
       " 'snake',\n",
       " 'foley',\n",
       " 'snow',\n",
       " 'hippo',\n",
       " 'dark',\n",
       " 'rabbit',\n",
       " 'alarm',\n",
       " 'train',\n",
       " 'beach',\n",
       " 'metal',\n",
       " 'time',\n",
       " 'wind',\n",
       " 'boilding',\n",
       " 'radio',\n",
       " 'lizard',\n",
       " 'lighter',\n",
       " 'helicopter',\n",
       " 'seagul',\n",
       " 'movie',\n",
       " 'modem',\n",
       " 'announcer',\n",
       " 'energy',\n",
       " 'powerup',\n",
       " 'steam',\n",
       " 'collectable',\n",
       " 'sheep',\n",
       " 'bullet',\n",
       " 'impact',\n",
       " 'jingle',\n",
       " 'dirt',\n",
       " 'cicadas',\n",
       " '<UNK>',\n",
       " 'mouse',\n",
       " 'fly',\n",
       " 'glass',\n",
       " 'thunder',\n",
       " 'ui',\n",
       " 'beep',\n",
       " 'item',\n",
       " 'music',\n",
       " 'turkey',\n",
       " 'explosion',\n",
       " 'toy',\n",
       " 'boiling',\n",
       " 'swamp',\n",
       " 'retro',\n",
       " 'lever',\n",
       " 'pigeon',\n",
       " 'goat',\n",
       " 'hum',\n",
       " 'fireball',\n",
       " 'coin',\n",
       " 'bone',\n",
       " 'pig',\n",
       " 'casting',\n",
       " 'bird',\n",
       " 'cinematic',\n",
       " 'fear',\n",
       " 'background',\n",
       " 'strange',\n",
       " 'ice',\n",
       " 'kick',\n",
       " 'game',\n",
       " 'punch',\n",
       " 'dog',\n",
       " 'toliet',\n",
       " 'footstep']"
      ]
     },
     "execution_count": 30,
     "metadata": {},
     "output_type": "execute_result"
    }
   ],
   "source": [
    "list(vocab.index)"
   ]
  },
  {
   "cell_type": "code",
   "execution_count": 64,
   "metadata": {},
   "outputs": [
    {
     "name": "stdout",
     "output_type": "stream",
     "text": [
      "151\n",
      "beep\n"
     ]
    }
   ],
   "source": [
    "index = np.random.randint(len(vocab))\n",
    "word = vocab.index[index]\n",
    "index = vocab[index]\n",
    "print(index)\n",
    "print(word)"
   ]
  },
  {
   "cell_type": "code",
   "execution_count": 59,
   "metadata": {},
   "outputs": [],
   "source": [
    "tf.enable_eager_execution()"
   ]
  },
  {
   "cell_type": "code",
   "execution_count": 8,
   "metadata": {},
   "outputs": [
    {
     "name": "stdout",
     "output_type": "stream",
     "text": [
      "hello, [[4.]]\n"
     ]
    }
   ],
   "source": [
    "x = [[2.]]\n",
    "m = tf.matmul(x, x)\n",
    "print(\"hello, {}\".format(m))"
   ]
  },
  {
   "cell_type": "code",
   "execution_count": 9,
   "metadata": {},
   "outputs": [
    {
     "name": "stdout",
     "output_type": "stream",
     "text": [
      "WARNING:tensorflow:From C:\\Anaconda3\\envs\\tensorflow113\\lib\\site-packages\\tensorflow\\python\\data\\ops\\iterator_ops.py:532: colocate_with (from tensorflow.python.framework.ops) is deprecated and will be removed in a future version.\n",
      "Instructions for updating:\n",
      "Colocations handled automatically by placer.\n"
     ]
    }
   ],
   "source": [
    "fps_dataset = tf.data.Dataset.from_tensor_slices(fps)\n",
    "word_ids_dataset = tf.data.Dataset.from_tensor_slices(word_ids)\n",
    "dataset = tf.data.Dataset.zip((fps_dataset, word_ids_dataset))\n",
    "dataset = dataset.shuffle(buffer_size=len(fps))\n",
    "dataset = dataset.batch(64, drop_remainder=True)\n",
    "iterator = dataset.make_one_shot_iterator()"
   ]
  },
  {
   "cell_type": "code",
   "execution_count": 10,
   "metadata": {},
   "outputs": [
    {
     "data": {
      "text/plain": [
       "(<tf.Tensor: id=23, shape=(64,), dtype=string, numpy=\n",
       " array([b'data/Gamemaster_Audio_16KHz\\\\Magic_Spells\\\\light_in_dark_spell_05.wav',\n",
       "        b'data/Gamemaster_Audio_16KHz\\\\Animal_Impersonations\\\\snake_2_hiss_01.wav',\n",
       "        b'data/Gamemaster_Audio_16KHz\\\\Guns_Weapons\\\\Bow_Arrow\\\\bow_crossbow_arrow_shoot_type1_07.wav',\n",
       "        b'data/Gamemaster_Audio_16KHz\\\\Comedy_Cartoon\\\\beep_zap_fun_03.wav',\n",
       "        b'data/Gamemaster_Audio_16KHz\\\\Retro\\\\retro_jump_collect_bonus_02.wav',\n",
       "        b'data/Gamemaster_Audio_16KHz\\\\Miscellaneous\\\\Typing\\\\typing_keystroke_single_soft_05.wav',\n",
       "        b'data/Gamemaster_Audio_16KHz\\\\Magic_Spells\\\\magic_general_item_collect_02.wav',\n",
       "        b'data/Gamemaster_Audio_16KHz\\\\Retro_Classic\\\\Weapons\\\\retro_laser_gun_shoot_23.wav',\n",
       "        b'data/Gamemaster_Audio_16KHz\\\\Zombie\\\\zombie_voice_groan_croak_06.wav',\n",
       "        b'data/Gamemaster_Audio_16KHz\\\\Magic_Spells\\\\magic_spell_book_page_flips_12.wav',\n",
       "        b'data/Gamemaster_Audio_16KHz\\\\Animal_Impersonations\\\\chicken_cluck_scream_long_01.wav',\n",
       "        b'data/Gamemaster_Audio_16KHz\\\\Voice\\\\Human Male B\\\\voice_male_b_cough_short_04.wav',\n",
       "        b'data/Gamemaster_Audio_16KHz\\\\Animal_Impersonations\\\\pigeon_call_angry_02.wav',\n",
       "        b'data/Gamemaster_Audio_16KHz\\\\Punches\\\\punch_grit_wet_impact_10.wav',\n",
       "        b'data/Gamemaster_Audio_16KHz\\\\Switches_Buttons_Gears_Levers\\\\switch_button_push_on_off_18.wav',\n",
       "        b'data/Gamemaster_Audio_16KHz\\\\Magic_Spells\\\\chimes_magical_bells_07.wav',\n",
       "        b'data/Gamemaster_Audio_16KHz\\\\Voice\\\\Goblin Fairy\\\\goblin_fairy_hurt_pain_choke_03.wav',\n",
       "        b'data/Gamemaster_Audio_16KHz\\\\Retro_Classic\\\\Miscellaneous\\\\retro_misc_various_sounds_88.wav',\n",
       "        b'data/Gamemaster_Audio_16KHz\\\\Electricity_Hums\\\\radio_tv_electronic_static_hum_loop_02.wav',\n",
       "        b'data/Gamemaster_Audio_16KHz\\\\Animal_Impersonations\\\\lizard_taunt_emote_04.wav',\n",
       "        b'data/Gamemaster_Audio_16KHz\\\\Sci-Fi\\\\sci-fi_driod_robot_emote_beeps_06.wav',\n",
       "        b'data/Gamemaster_Audio_16KHz\\\\Retro_Classic\\\\Explosion\\\\retro_explosion_general_24.wav',\n",
       "        b'data/Gamemaster_Audio_16KHz\\\\Comedy_Cartoon\\\\comedy_creature_human_slurp_food_drink_01.wav',\n",
       "        b'data/Gamemaster_Audio_16KHz\\\\Guns_Weapons\\\\Bow_Arrow\\\\bow_crossbow_arrow_shoot_type3_03.wav',\n",
       "        b'data/Gamemaster_Audio_16KHz\\\\Footsteps\\\\footstep_wood_walk_04.wav',\n",
       "        b'data/Gamemaster_Audio_16KHz\\\\Retro_Classic\\\\Magic\\\\retro_magic_spell_cast_07.wav',\n",
       "        b'data/Gamemaster_Audio_16KHz\\\\Retro_Classic\\\\Footstep_Movement\\\\retro_footstep_movement_03.wav',\n",
       "        b'data/Gamemaster_Audio_16KHz\\\\Guns_Weapons\\\\Guns\\\\gun_pistol_slide_fast_02.wav',\n",
       "        b'data/Gamemaster_Audio_16KHz\\\\Retro\\\\retro_synth_beeps_groove_07.wav',\n",
       "        b'data/Gamemaster_Audio_16KHz\\\\Voice\\\\Human Male B\\\\voice_male_b_battle_shout_short_12.wav',\n",
       "        b'data/Gamemaster_Audio_16KHz\\\\Voice\\\\Human Male B\\\\voice_male_b_death_low_08.wav',\n",
       "        b'data/Gamemaster_Audio_16KHz\\\\Miscellaneous\\\\Pencil\\\\pencil_sketch_draw_write_squibble_01_short_12.wav',\n",
       "        b'data/Gamemaster_Audio_16KHz\\\\Collectibles_Items_Powerup\\\\coin_bag_ring_gemstone_item_10.wav',\n",
       "        b'data/Gamemaster_Audio_16KHz\\\\Guns_Weapons\\\\Guns\\\\gun_pistol_dry_fire_03.wav',\n",
       "        b'data/Gamemaster_Audio_16KHz\\\\Guns_Weapons\\\\Guns_Silenced\\\\gun_semi_auto_shot_silenced1_04.wav',\n",
       "        b'data/Gamemaster_Audio_16KHz\\\\Foley\\\\foley_jump_movement_throw_08.wav',\n",
       "        b'data/Gamemaster_Audio_16KHz\\\\Animal_Impersonations\\\\pig_sniff_04.wav',\n",
       "        b'data/Gamemaster_Audio_16KHz\\\\Animal_Impersonations\\\\hippo_groan_04.wav',\n",
       "        b'data/Gamemaster_Audio_16KHz\\\\Voice\\\\Goblin Fairy\\\\goblin_fairy_hurt_pain_11.wav',\n",
       "        b\"data/Gamemaster_Audio_16KHz\\\\Voice\\\\Human Radio\\\\radio_voice_male_soldier_we're_being_overrun_01.wav\",\n",
       "        b'data/Gamemaster_Audio_16KHz\\\\Miscellaneous\\\\Clock\\\\clock_cuckoo_clock_bird_call_01.wav',\n",
       "        b'data/Gamemaster_Audio_16KHz\\\\User_Interface_Menu\\\\ui_text_type_scroll_effect_04.wav',\n",
       "        b'data/Gamemaster_Audio_16KHz\\\\Animal_Impersonations\\\\dog_hurt_whimper_howl_long_01.wav',\n",
       "        b'data/Gamemaster_Audio_16KHz\\\\Guns_Weapons\\\\Bullets\\\\bullet_leave_barrel_slow_01.wav',\n",
       "        b'data/Gamemaster_Audio_16KHz\\\\Zombie\\\\zombie_voice_grunt_07.wav',\n",
       "        b'data/Gamemaster_Audio_16KHz\\\\Retro_Classic\\\\Impacts\\\\retro_impact_hit_general_26.wav',\n",
       "        b'data/Gamemaster_Audio_16KHz\\\\Switches_Buttons_Gears_Levers\\\\lever_turn_push_crank_handle_small_10.wav',\n",
       "        b'data/Gamemaster_Audio_16KHz\\\\Voice\\\\Human Male D\\\\voice_male_d_battle_shout_13.wav',\n",
       "        b'data/Gamemaster_Audio_16KHz\\\\Voice\\\\Human Male B\\\\voice_male_b_attack_set4_03.wav',\n",
       "        b'data/Gamemaster_Audio_16KHz\\\\Animal_Impersonations\\\\pigeon_call_calm_04.wav',\n",
       "        b'data/Gamemaster_Audio_16KHz\\\\Miscellaneous\\\\Pencil\\\\pencil_sketch_draw_write_squibble_02_med_08.wav',\n",
       "        b'data/Gamemaster_Audio_16KHz\\\\Guns_Weapons\\\\Knife_Sword_Pick\\\\sword_hit_impact_03.wav',\n",
       "        b'data/Gamemaster_Audio_16KHz\\\\Animals_Nature_Ambiences\\\\ducks_birds_lake_ambience_low_wind_loop_01.wav',\n",
       "        b'data/Gamemaster_Audio_16KHz\\\\Guns_Weapons\\\\Guns\\\\gun_revolver_pistol_cylinder_close_02.wav',\n",
       "        b'data/Gamemaster_Audio_16KHz\\\\Voice\\\\Human Male C\\\\voice_male_c_laugh_04.wav',\n",
       "        b'data/Gamemaster_Audio_16KHz\\\\Retro_Classic\\\\Magic\\\\retro_magic_spell_cast_sparkle_15.wav',\n",
       "        b'data/Gamemaster_Audio_16KHz\\\\User_Interface_Menu\\\\ui_menu_button_click_13.wav',\n",
       "        b'data/Gamemaster_Audio_16KHz\\\\Miscellaneous\\\\Wood\\\\wood_block_sticks_hit_clap_rattle_06.wav',\n",
       "        b'data/Gamemaster_Audio_16KHz\\\\Doors\\\\small_box_close_01.wav',\n",
       "        b'data/Gamemaster_Audio_16KHz\\\\Animal_Impersonations\\\\hyena_hurt_03.wav',\n",
       "        b'data/Gamemaster_Audio_16KHz\\\\Retro_Classic\\\\Explosion\\\\retro_explosion_deep_19.wav',\n",
       "        b'data/Gamemaster_Audio_16KHz\\\\Alarms_Beeps_Siren\\\\beep_06.wav',\n",
       "        b'data/Gamemaster_Audio_16KHz\\\\Retro_Classic\\\\Menu_UI_Beeps\\\\retro_ui_menu_blip_click_09.wav',\n",
       "        b'data/Gamemaster_Audio_16KHz\\\\Voice\\\\Human Male A\\\\voice_male_breathing_mask_loop_jog_02.wav'],\n",
       "       dtype=object)>, <tf.Tensor: id=24, shape=(64,), dtype=int64, numpy=\n",
       " array([ 53, 114, 100, 151, 159,  74,  67, 159,  58,  67,  55,  16, 161,\n",
       "        177,  21, 112,  22, 159, 127, 128, 104, 159,  84, 100, 180, 159,\n",
       "        159,  87, 159,  16,  16,  13, 165,  87,  87, 115, 167, 117,  22,\n",
       "        127,   2, 150, 178, 140,  58, 159, 160,  16,  16, 161,  13,  76,\n",
       "         31,  87,  16, 159, 150,  96,  78,   1, 159, 151, 159,  16],\n",
       "       dtype=int64)>)"
      ]
     },
     "execution_count": 10,
     "metadata": {},
     "output_type": "execute_result"
    }
   ],
   "source": [
    "iterator.get_next()"
   ]
  },
  {
   "cell_type": "code",
   "execution_count": 11,
   "metadata": {},
   "outputs": [
    {
     "data": {
      "text/plain": [
       "'beach'"
      ]
     },
     "execution_count": 11,
     "metadata": {},
     "output_type": "execute_result"
    }
   ],
   "source": [
    "vocab.index[122]"
   ]
  },
  {
   "cell_type": "code",
   "execution_count": 12,
   "metadata": {},
   "outputs": [
    {
     "name": "stdout",
     "output_type": "stream",
     "text": [
      "Loaded vocab file: train_gamemaster\\vocab.csv\n",
      "WARNING:tensorflow:From C:\\Users\\Lance Chaney\\Desktop\\wavegan\\loader.py:171: py_func (from tensorflow.python.ops.script_ops) is deprecated and will be removed in a future version.\n",
      "Instructions for updating:\n",
      "tf.py_func is deprecated in TF V2. Instead, use\n",
      "    tf.py_function, which takes a python function which manipulates tf eager\n",
      "    tensors instead of numpy arrays. It's easy to convert a tf eager tensor to\n",
      "    an ndarray (just call tensor.numpy()) but having access to eager tensors\n",
      "    means `tf.py_function`s can use accelerators such as GPUs as well as\n",
      "    being differentiable using a gradient tape.\n",
      "    \n",
      "\n",
      "WARNING: The TensorFlow contrib module will not be included in TensorFlow 2.0.\n",
      "For more information, please see:\n",
      "  * https://github.com/tensorflow/community/blob/master/rfcs/20180907-contrib-sunset.md\n",
      "  * https://github.com/tensorflow/addons\n",
      "If you depend on functionality not listed there, please file an issue.\n",
      "\n"
     ]
    }
   ],
   "source": [
    "x, y, vocab = loader.decode_extract_and_batch(\n",
    "        fps,\n",
    "        batch_size=64,\n",
    "        slice_len=16384,\n",
    "        decode_fs=16000,\n",
    "        decode_num_channels=2,\n",
    "        decode_fast_wav=True,\n",
    "        slice_first_only=True,\n",
    "        prefetch_gpu_num=-1,\n",
    "        extract_labels=True,\n",
    "        shuffle=True,\n",
    "        repeat=True,\n",
    "        shuffle_buffer_size=1,\n",
    "        vocab_dir='train_gamemaster')"
   ]
  },
  {
   "cell_type": "code",
   "execution_count": 13,
   "metadata": {},
   "outputs": [
    {
     "name": "stdout",
     "output_type": "stream",
     "text": [
      "tf.Tensor(\n",
      "[156 103 136  45 121 112 161 142 117  61 121 159 121 145 117 133 135  63\n",
      " 117 136  79  98  99 121  82  44  18 150  24 121   8  86 117 117 156 136\n",
      "  27  98 121 121  32  98 117   1 121   8 121 121 121 155 123  98  32 140\n",
      " 162 144  15  70  82  25 156 149 117  63], shape=(64,), dtype=int64)\n",
      "0\n",
      "lighter          0\n",
      "pigeon           1\n",
      "<UNK>            2\n",
      "stones           3\n",
      "magic            4\n",
      "coin             5\n",
      "turkey           6\n",
      "vanish           7\n",
      "zombie           8\n",
      "steam            9\n",
      "whoosh          10\n",
      "sweeping        11\n",
      "hum             12\n",
      "hyro            13\n",
      "unsheathe       14\n",
      "sheep           15\n",
      "toliet          16\n",
      "pig             17\n",
      "cow             18\n",
      "pencil          19\n",
      "lizard          20\n",
      "rain            21\n",
      "fun             22\n",
      "fantasy         23\n",
      "tas             24\n",
      "bird            25\n",
      "goat            26\n",
      "glass           27\n",
      "dog             28\n",
      "toy             29\n",
      "              ... \n",
      "casting        151\n",
      "grasshopper    152\n",
      "shaker         153\n",
      "river          154\n",
      "bell           155\n",
      "music          156\n",
      "rock           157\n",
      "seal           158\n",
      "happy          159\n",
      "fuse           160\n",
      "water          161\n",
      "points         162\n",
      "tape           163\n",
      "small          164\n",
      "wood           165\n",
      "lever          166\n",
      "fly            167\n",
      "sword          168\n",
      "printer        169\n",
      "battle         170\n",
      "rooster        171\n",
      "cricket        172\n",
      "ui             173\n",
      "crickets       174\n",
      "snow           175\n",
      "frog           176\n",
      "alarm          177\n",
      "metallic       178\n",
      "scissors       179\n",
      "owl            180\n",
      "Name: 1, Length: 181, dtype: int64\n"
     ]
    }
   ],
   "source": [
    "print(y)\n",
    "print(vocab)"
   ]
  },
  {
   "cell_type": "code",
   "execution_count": 14,
   "metadata": {},
   "outputs": [
    {
     "data": {
      "text/plain": [
       "'explosion'"
      ]
     },
     "execution_count": 14,
     "metadata": {},
     "output_type": "execute_result"
    }
   ],
   "source": [
    "vocab.index[79]"
   ]
  },
  {
   "cell_type": "code",
   "execution_count": 15,
   "metadata": {
    "scrolled": true
   },
   "outputs": [
    {
     "data": {
      "text/html": [
       "\n",
       "                <audio controls=\"controls\" >\n",
       "                    <source src=\"data:audio/wav;base64,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\" type=\"audio/wav\" />\n",
       "                    Your browser does not support the audio element.\n",
       "                </audio>\n",
       "              "
      ],
      "text/plain": [
       "<IPython.lib.display.Audio object>"
      ]
     },
     "metadata": {},
     "output_type": "display_data"
    },
    {
     "name": "stdout",
     "output_type": "stream",
     "text": [
      "zombie\n"
     ]
    }
   ],
   "source": [
    "idx = np.random.randint(64)\n",
    "audio = tf.squeeze(x)[idx].numpy().T\n",
    "label_id = y[idx].numpy()\n",
    "display(Audio(audio, rate=16000))\n",
    "print(vocab.index[label_id])"
   ]
  },
  {
   "cell_type": "code",
   "execution_count": 16,
   "metadata": {},
   "outputs": [],
   "source": [
    "embedding_size = 100\n",
    "embeddings = tf.Variable(tf.random_normal(shape=(len(vocab), embedding_size)), trainable=True)"
   ]
  },
  {
   "cell_type": "code",
   "execution_count": 17,
   "metadata": {},
   "outputs": [
    {
     "data": {
      "text/plain": [
       "<tf.Tensor: id=166, shape=(100,), dtype=float32, numpy=\n",
       "array([ 0.5977211 , -0.28028223, -0.9938906 ,  1.5989482 , -0.17579788,\n",
       "        0.34570223,  1.4036567 ,  0.5487447 , -0.5669077 , -0.4226916 ,\n",
       "        0.60701764, -0.80137235,  0.47495502,  0.0561896 ,  0.21504436,\n",
       "       -0.51723444,  0.1066265 ,  1.343644  , -0.2916247 ,  0.38603112,\n",
       "        0.08152105, -2.3123782 , -0.1998377 , -0.22560324,  0.60357195,\n",
       "       -1.321113  , -0.56467116, -0.35141766,  1.1826735 ,  0.4350596 ,\n",
       "        1.3927317 , -1.3605627 , -0.90730876, -0.64513654, -0.4986903 ,\n",
       "       -0.04123936,  1.0049641 , -0.7667808 ,  0.07609525, -0.48973513,\n",
       "        1.7575154 ,  0.2840021 , -0.06053606, -1.030775  ,  1.4885257 ,\n",
       "        1.1901042 , -0.60230875, -1.1392053 , -0.42002353,  1.0252796 ,\n",
       "       -1.9293994 , -0.7133971 , -0.19297075,  0.2802753 ,  3.7554605 ,\n",
       "       -0.8147698 ,  1.4228759 ,  0.9237147 , -0.5334813 ,  0.31761095,\n",
       "        0.429219  ,  1.6956215 ,  0.51307046,  0.10887808, -0.6693384 ,\n",
       "       -0.858294  , -1.5252055 , -1.504633  ,  0.7067422 , -0.6624459 ,\n",
       "       -0.24074082, -0.47930095, -0.82695335, -0.48224598,  0.03150207,\n",
       "        0.7457562 , -0.95507145, -0.3401081 , -1.0025172 ,  0.21481472,\n",
       "       -2.1191695 , -2.2398806 ,  1.4739938 , -0.8406937 ,  0.8048137 ,\n",
       "       -0.8040293 ,  0.78364086, -2.070023  , -0.49414942, -0.07323773,\n",
       "       -0.06748485, -2.0712478 , -0.8914833 , -0.34091485,  0.6263153 ,\n",
       "        0.21320109, -1.2847306 ,  0.45406258,  0.899505  ,  0.03489304],\n",
       "      dtype=float32)>"
      ]
     },
     "execution_count": 17,
     "metadata": {},
     "output_type": "execute_result"
    }
   ],
   "source": [
    "tf.nn.embedding_lookup(embeddings, vocab['monkey'])"
   ]
  },
  {
   "cell_type": "code",
   "execution_count": null,
   "metadata": {},
   "outputs": [],
   "source": []
  },
  {
   "cell_type": "code",
   "execution_count": null,
   "metadata": {},
   "outputs": [],
   "source": []
  }
 ],
 "metadata": {
  "kernelspec": {
   "display_name": "Python [conda env:tensorflow113] *",
   "language": "python",
   "name": "conda-env-tensorflow113-py"
  },
  "language_info": {
   "codemirror_mode": {
    "name": "ipython",
    "version": 3
   },
   "file_extension": ".py",
   "mimetype": "text/x-python",
   "name": "python",
   "nbconvert_exporter": "python",
   "pygments_lexer": "ipython3",
   "version": "3.7.3"
  }
 },
 "nbformat": 4,
 "nbformat_minor": 2
}
