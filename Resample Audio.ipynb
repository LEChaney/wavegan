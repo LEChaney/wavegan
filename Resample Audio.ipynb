{
 "cells": [
  {
   "cell_type": "code",
   "execution_count": 72,
   "metadata": {},
   "outputs": [],
   "source": [
    "from scipy.io.wavfile import read as wavread, write as wavwrite\n",
    "import glob\n",
    "import os\n",
    "from joblib import Parallel, delayed\n",
    "import multiprocessing\n",
    "import librosa\n",
    "from bwfsoundfile import BwfSoundFile\n",
    "from IPython.display import display, Audio\n",
    "import numpy as np"
   ]
  },
  {
   "cell_type": "code",
   "execution_count": 73,
   "metadata": {},
   "outputs": [],
   "source": [
    "file_list = []\n",
    "root_dir = 'data/Gamemaster_Audio'\n",
    "out_dir = 'data/Gamemaster_Audio_16KHz'\n",
    "out_sample_rate = 16000\n",
    "for fp in glob.iglob(os.path.join(root_dir, '**/*.wav'), recursive=True):\n",
    "    file_list.append(os.path.relpath(fp, root_dir))"
   ]
  },
  {
   "cell_type": "code",
   "execution_count": 74,
   "metadata": {},
   "outputs": [
    {
     "data": {
      "text/plain": [
       "8076"
      ]
     },
     "execution_count": 74,
     "metadata": {},
     "output_type": "execute_result"
    }
   ],
   "source": [
    "len(file_list)"
   ]
  },
  {
   "cell_type": "code",
   "execution_count": 81,
   "metadata": {},
   "outputs": [],
   "source": [
    "def process_file(fp):\n",
    "    in_fp = os.path.join(root_dir, fp)\n",
    "    out_fp = os.path.join(out_dir, fp)\n",
    "    try:\n",
    "        sr, wav = wavread(in_fp)\n",
    "    except ValueError:\n",
    "        with BwfSoundFile(in_fp) as bwf_file:\n",
    "            sr = bwf_file.samplerate\n",
    "            wav = bwf_file.read(-1, dtype='float32')\n",
    "    if wav.dtype == np.int16:\n",
    "        wav = wav.astype(np.float32)\n",
    "        wav /= 32768.\n",
    "    elif wav.dtype == np.int32:\n",
    "        wav = wav.astype(np.float32)\n",
    "        wav /= 2147483648.\n",
    "    resampled_wav = librosa.resample(wav.T, sr, out_sample_rate).T\n",
    "\n",
    "    working_dir = os.path.dirname(out_fp)\n",
    "    os.makedirs(working_dir, exist_ok=True)\n",
    "    wavwrite(out_fp, out_sample_rate, resampled_wav)"
   ]
  },
  {
   "cell_type": "code",
   "execution_count": 82,
   "metadata": {},
   "outputs": [],
   "source": [
    "process_file(file_list[0])"
   ]
  },
  {
   "cell_type": "code",
   "execution_count": 83,
   "metadata": {},
   "outputs": [
    {
     "name": "stderr",
     "output_type": "stream",
     "text": [
      "[Parallel(n_jobs=16)]: Using backend LokyBackend with 16 concurrent workers.\n",
      "[Parallel(n_jobs=16)]: Done  40 tasks      | elapsed:    3.5s\n",
      "[Parallel(n_jobs=16)]: Done 130 tasks      | elapsed:    6.0s\n",
      "[Parallel(n_jobs=16)]: Done 256 tasks      | elapsed:   14.1s\n",
      "[Parallel(n_jobs=16)]: Done 502 tasks      | elapsed:   16.2s\n",
      "[Parallel(n_jobs=16)]: Done 898 tasks      | elapsed:   19.4s\n",
      "[Parallel(n_jobs=16)]: Done 1366 tasks      | elapsed:   26.3s\n",
      "[Parallel(n_jobs=16)]: Done 1715 tasks      | elapsed:   30.6s\n",
      "[Parallel(n_jobs=16)]: Done 2160 tasks      | elapsed:   34.5s\n",
      "[Parallel(n_jobs=16)]: Done 3358 tasks      | elapsed:   40.8s\n",
      "[Parallel(n_jobs=16)]: Done 4280 tasks      | elapsed:   54.1s\n",
      "[Parallel(n_jobs=16)]: Done 5978 tasks      | elapsed:  1.1min\n",
      "[Parallel(n_jobs=16)]: Done 7046 tasks      | elapsed:  1.2min\n",
      "[Parallel(n_jobs=16)]: Done 8076 out of 8076 | elapsed:  1.6min finished\n"
     ]
    }
   ],
   "source": [
    "num_cores = multiprocessing.cpu_count()\n",
    "results = Parallel(n_jobs=num_cores, verbose=5)(delayed(process_file)(fp) for fp in file_list)"
   ]
  },
  {
   "cell_type": "code",
   "execution_count": null,
   "metadata": {},
   "outputs": [],
   "source": []
  }
 ],
 "metadata": {
  "kernelspec": {
   "display_name": "Python [conda env:tensorflow]",
   "language": "python",
   "name": "conda-env-tensorflow-py"
  },
  "language_info": {
   "codemirror_mode": {
    "name": "ipython",
    "version": 3
   },
   "file_extension": ".py",
   "mimetype": "text/x-python",
   "name": "python",
   "nbconvert_exporter": "python",
   "pygments_lexer": "ipython3",
   "version": "3.6.6"
  }
 },
 "nbformat": 4,
 "nbformat_minor": 2
}
